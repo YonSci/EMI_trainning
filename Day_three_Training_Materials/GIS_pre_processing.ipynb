{
 "cells": [
  {
   "cell_type": "markdown",
   "id": "1a2a2989",
   "metadata": {},
   "source": [
    "### Defining paths for inputs and output files"
   ]
  },
  {
   "cell_type": "code",
   "execution_count": null,
   "id": "e75c6e94",
   "metadata": {},
   "outputs": [],
   "source": [
    "# Import standard utility modules\n",
    "import os     # For creating and removing a directory, fetching its contents, changing and identifying the current directory, etc.\n",
    "import shutil # Perform high-level operation like copy and create on files and collections of files."
   ]
  },
  {
   "cell_type": "markdown",
   "id": "b26083af",
   "metadata": {},
   "source": [
    "### Set GIS input data directory"
   ]
  },
  {
   "cell_type": "code",
   "execution_count": null,
   "id": "74c84de7",
   "metadata": {},
   "outputs": [],
   "source": [
    "# Define the directory  \n",
    "gis_data_folder = \"/home/yoni/Documents/GIS_Training\""
   ]
  },
  {
   "cell_type": "markdown",
   "id": "36cf03cf",
   "metadata": {},
   "source": [
    "### Create the input data directory "
   ]
  },
  {
   "cell_type": "code",
   "execution_count": null,
   "id": "a98df9cc",
   "metadata": {},
   "outputs": [],
   "source": [
    "# If you are on the python/juppter notebook dont forget to use the exclamation `!`   \n",
    "!mkdir -p /home/yoni/Documents/GIS_Training"
   ]
  },
  {
   "cell_type": "markdown",
   "id": "e8bbe4cb",
   "metadata": {},
   "source": [
    "### Change the directory to the input data and directory and get current working directory"
   ]
  },
  {
   "cell_type": "code",
   "execution_count": null,
   "id": "71f8694c",
   "metadata": {},
   "outputs": [],
   "source": [
    "os.chdir(gis_data_folder)\n",
    "cwd = os.getcwd()\n",
    "cwd"
   ]
  },
  {
   "cell_type": "markdown",
   "id": "fd1aa669",
   "metadata": {},
   "source": [
    "### Set path to input data"
   ]
  },
  {
   "cell_type": "code",
   "execution_count": null,
   "id": "db12f9fd",
   "metadata": {},
   "outputs": [],
   "source": [
    "data_folder = os.path.join(cwd, 'GIS_DATA')\n",
    "data_folder"
   ]
  },
  {
   "cell_type": "markdown",
   "id": "8cf4c370",
   "metadata": {},
   "source": [
    "### Set path to output data"
   ]
  },
  {
   "cell_type": "code",
   "execution_count": null,
   "id": "c50cf254",
   "metadata": {},
   "outputs": [],
   "source": [
    "output_folder = os.path.join(cwd, 'Outputs')\n",
    "output_folder"
   ]
  },
  {
   "cell_type": "markdown",
   "id": "76f17d41",
   "metadata": {},
   "source": [
    "### Clear all outputs from previous runs and re-creating the output directory"
   ]
  },
  {
   "cell_type": "code",
   "execution_count": null,
   "id": "32381dd3",
   "metadata": {},
   "outputs": [],
   "source": [
    "if os.path.exists(output_folder):\n",
    "   shutil.rmtree(output_folder)\n",
    "os.mkdir(output_folder)"
   ]
  },
  {
   "cell_type": "markdown",
   "id": "f9f6ca3f",
   "metadata": {},
   "source": [
    "### Create domain boundary files"
   ]
  },
  {
   "cell_type": "code",
   "execution_count": null,
   "id": "89a5a464",
   "metadata": {},
   "outputs": [],
   "source": [
    "### Let’s define the path for the geo_em.d01.nc\n",
    "\n",
    "in_geogrid = os.path.join(data_folder, 'example_data3/geo/geo_em.d03.nc')\n",
    "in_geogrid"
   ]
  },
  {
   "cell_type": "markdown",
   "id": "3bc2722f",
   "metadata": {},
   "source": [
    "### Run the script with required parameters"
   ]
  },
  {
   "cell_type": "code",
   "execution_count": null,
   "id": "e61f9f33",
   "metadata": {},
   "outputs": [],
   "source": [
    "# Print information to screen for reference\n",
    "print('Command to run:\\n')\n",
    "print('Python Create_Domain_Boundary_Shapefile.py \\\\\\n\\t -i {0} \\\\\\n\\t -o {1}\\n'.format(in_geogrid, output_folder))\n",
    "\n",
    "! python Create_Domain_Boundary_Shapefile.py -i {in_geogrid} -o {output_folder}"
   ]
  },
  {
   "cell_type": "markdown",
   "id": "6c2d8d04",
   "metadata": {},
   "source": [
    "### Visualize the domain boundary shapefile"
   ]
  },
  {
   "cell_type": "code",
   "execution_count": null,
   "id": "dec3369e",
   "metadata": {},
   "outputs": [],
   "source": [
    "import json\n",
    "import geopandas\n",
    "import ipyleaflet\n",
    "from ipyleaflet import Map, GeoJSON, ScaleControl, FullScreenControl, basemaps, SplitMapControl, basemap_to_tiles, LayersControl\n",
    "from jupyter_functions import create_map\n",
    "\n",
    "import warnings\n",
    "warnings.filterwarnings(\"ignore\")\n",
    "\n",
    "# Setup display items\n",
    "boundary_shp = os.path.join(output_folder,'geo_em.d03_boundary.shp')\n",
    "b_shp = geopandas.read_file(boundary_shp)\n",
    "b_shp = b_shp.to_crs(epsg=4326)\n",
    "\n",
    "# Export vector to GeoJSON\n",
    "b_json = os.path.join(output_folder, 'boundary.json')\n",
    "b_shp.to_file(b_json, driver='GeoJSON')\n",
    "\n",
    "# Read GeoJSON\n",
    "with open(b_json, 'r') as f:\n",
    "    data = json.load(f)\n",
    "\n",
    "# Obtain vector center point\n",
    "x = b_shp.geometry.centroid.x\n",
    "y = b_shp.geometry.centroid.y\n",
    "map_center = y[0], x[0]\n",
    "\n",
    "# Instantiate map object\n",
    "m = Map(center=(41.50, -73.73), zoom=10, scroll_wheel_zoom=True)\n",
    "\n",
    "# Read GeoJSON\n",
    "with open(b_json, 'r') as f:\n",
    "    data = json.load(f)\n",
    "\n",
    "# Obtain vector center point\n",
    "x = b_shp.geometry.centroid.x\n",
    "y = b_shp.geometry.centroid.y\n",
    "map_center = y[0], x[0]\n",
    "\n",
    "# Instantiate map object\n",
    "m = create_map(map_center, 10)\n",
    "\n",
    "# Read GeoJSON\n",
    "geo_json = GeoJSON(data=data, name='Domain boundary')\n",
    "\n",
    "# Define basemaps to swipe between\n",
    "right_layer = basemap_to_tiles(basemap=basemaps.OpenStreetMap.Mapnik)\n",
    "left_layer = basemap_to_tiles(basemap=basemaps.Esri.WorldImagery)\n",
    "\n",
    "# Setup basemap swipe control\n",
    "control = SplitMapControl(left_layer=left_layer, right_layer=right_layer)\n",
    "m.add_control(control)\n",
    "m.add_layer(geo_json)\n",
    "\n",
    "# Draw map\n",
    "m"
   ]
  },
  {
   "cell_type": "markdown",
   "id": "66ca7283",
   "metadata": {},
   "source": [
    "### Build GeoTiff raster from a surface elevation"
   ]
  },
  {
   "cell_type": "code",
   "execution_count": null,
   "id": "69d76553",
   "metadata": {},
   "outputs": [],
   "source": [
    "# Define the variable to export to raster\n",
    "in_var = \"HGT_M\"\n",
    "\n",
    "# Define the output raster file using variable name defined above\n",
    "out_file = os.path.join(output_folder, f'{in_var}.tif')\n",
    "\n",
    "# Print information to screen for reference\n",
    "print('Command to run:\\n')\n",
    "print('python Build_GeoTiff_From_Geogrid_File.py \\\\\\n\\t -i {0} \\\\\\n\\t -v {1} \\\\\\n\\t -o {2}\\n'.format(in_geogrid, in_var, out_file))\n",
    "\n",
    "# Run the script with required parameters\n",
    "! python Build_GeoTiff_From_Geogrid_File.py -i {in_geogrid} -v {in_var} -o {out_file}"
   ]
  },
  {
   "cell_type": "markdown",
   "id": "aebfd467",
   "metadata": {},
   "source": [
    "### Draw the basemap"
   ]
  },
  {
   "cell_type": "code",
   "execution_count": null,
   "id": "c05a9f0e",
   "metadata": {
    "scrolled": true
   },
   "outputs": [],
   "source": [
    "# Import Python visualization libraries\n",
    "import rasterio\n",
    "from matplotlib import pyplot\n",
    "from osgeo import gdal\n",
    "from ipyleaflet import ImageOverlay\n",
    "from jupyter_functions import cmap_options, show_raster_map\n",
    "\n",
    "# Create a map object from pre-build function\n",
    "m2 = create_map(map_center, 10)\n",
    "\n",
    "# Render the map\n",
    "m2"
   ]
  },
  {
   "cell_type": "markdown",
   "id": "54a8093c",
   "metadata": {},
   "source": [
    "### Overlay the surface elevation on the basemap"
   ]
  },
  {
   "cell_type": "code",
   "execution_count": null,
   "id": "8655d724",
   "metadata": {},
   "outputs": [],
   "source": [
    "show_raster_map(out_file, m2, b_shp, output_folder)"
   ]
  },
  {
   "cell_type": "markdown",
   "id": "df536110",
   "metadata": {},
   "source": [
    "### Building the hydrologic routing grids"
   ]
  },
  {
   "cell_type": "code",
   "execution_count": null,
   "id": "be9a91b1",
   "metadata": {},
   "outputs": [],
   "source": [
    "import Build_Routing_Stack\n",
    "\n",
    "# Define script input parameters using python variables\n",
    "in_geogrid = os.path.join(data_folder, 'example_data3/geo/geo_em.d03.nc')\n",
    "csv = os.path.join(data_folder, 'example_data3/forecast_points.csv')\n",
    "in_dem = os.path.join(data_folder, '/home/yoni/Documents/Dechatu/merged_pro.tif')\n",
    "regrid_factor = 4\n",
    "routing_cells = 25\n",
    "out_zip = os.path.join(output_folder, 'Gridded_test.zip')"
   ]
  },
  {
   "cell_type": "markdown",
   "id": "12975e8f",
   "metadata": {},
   "source": [
    "### Execute the routing scrip"
   ]
  },
  {
   "cell_type": "code",
   "execution_count": null,
   "id": "63f5afc2",
   "metadata": {},
   "outputs": [],
   "source": [
    "# Print information to screen for reference\n",
    "#print('Command to run:\\n')\n",
    "#print('python Build_Routing_Stack.py \\\\\\n\\t -i {0} \\\\\\n\\t \\\\\\n\\t --CSV {2} \\\\\\n\\t -d {3} \\\\\\n\\t -R {4} \\\\\\n\\t -t {5} \\\\\\n\\t -o {6}\\n'.format(in_geogrid, csv, in_dem, regrid_factor, routing_cells, out_zip))\n",
    "\n",
    "# Run the script with required parameters\n",
    "! python Build_Routing_Stack.py -i {in_geogrid} \\\n",
    "--CSV {csv} \\\n",
    "-d {in_dem} \\\n",
    "-R {regrid_factor} \\\n",
    "-t {routing_cells} \\\n",
    "-o {out_zip}"
   ]
  },
  {
   "cell_type": "markdown",
   "id": "218706ad",
   "metadata": {},
   "source": [
    "### Define output directory to store GeoTiff output of all routing stack grids"
   ]
  },
  {
   "cell_type": "code",
   "execution_count": null,
   "id": "667e986e",
   "metadata": {},
   "outputs": [],
   "source": [
    "raster_outputs = os.path.join(output_folder, \"Raster_Outputs\")\n",
    "\n",
    "# Print information to screen for reference\n",
    "print('Command to run:\\n')\n",
    "print('python Examine_Outputs_of_GIS_Preprocessor.py \\\\\\n\\t -i {0} \\\\\\n\\t -o {1}\\n'.format(out_zip, raster_outputs))\n",
    "\n",
    "# Run the script with required parameters\n",
    "! python Examine_Outputs_of_GIS_Preprocessor.py -i {out_zip} -o {raster_outputs}"
   ]
  },
  {
   "cell_type": "markdown",
   "id": "567d362d",
   "metadata": {},
   "source": [
    "### Visualize the hydrologic routing grids"
   ]
  },
  {
   "cell_type": "code",
   "execution_count": null,
   "id": "30586ef8",
   "metadata": {},
   "outputs": [],
   "source": [
    "import ipywidgets as widgets\n",
    "from ipywidgets import interact\n",
    "\n",
    "def see_raster(x):\n",
    "    src = rasterio.open(os.path.join(raster_outputs, f\"{x}.tif\"))\n",
    "    cmap, norm = cmap_options(x)\n",
    "    if x in ['TOPOGRAPHY']:\n",
    "        pyplot.imshow(src.read(1), cmap=cmap,  aspect='auto', norm=norm, interpolation='nearest', vmin=0)\n",
    "    else:\n",
    "        pyplot.imshow(src.read(1), cmap=cmap,  aspect='auto', norm=norm, interpolation='nearest')\n",
    "    cbar = pyplot.colorbar()\n",
    "\n",
    "    # Keep the automatic aspect while scaling the image up in size\n",
    "    fig = pyplot.gcf()\n",
    "    w, h = fig.get_size_inches()\n",
    "    fig.set_size_inches(w * 1.75, h * 1.75)\n",
    "\n",
    "    # Show image\n",
    "    pyplot.show()\n",
    "\n",
    "in_raster = widgets.Dropdown(\n",
    "    options=[('Basin', 'BASIN'), ('Basin mask', 'basn_msk'), ('Channel grid', 'CHANNELGRID'), ('Flow accumulation', 'FLOWACC'),\n",
    "            ('Flow direction', 'FLOWDIRECTION'), ('Forecast points', 'frxst_pts'), ('Lake grid', 'LAKEGRID'),\n",
    "            ('Land use', 'landuse'), ('Latitude', 'LATITUDE'), ('LKSATFAC', 'LKSATFAC'), ('Longitude', 'LONGITUDE'),\n",
    "            ('OVROUGHRTFAC', 'OVROUGHRTFAC'), ('RETDEPRTFAC', 'RETDEPRTFAC'), ('Stream order', 'STREAMORDER'),\n",
    "            ('Topography', 'TOPOGRAPHY')],\n",
    "    value='FLOWACC',\n",
    "    description='Variable:')\n",
    "\n",
    "interact(see_raster, x=in_raster)"
   ]
  },
  {
   "cell_type": "code",
   "execution_count": null,
   "id": "a9a14a46",
   "metadata": {},
   "outputs": [],
   "source": []
  },
  {
   "cell_type": "code",
   "execution_count": null,
   "id": "606071aa",
   "metadata": {},
   "outputs": [],
   "source": []
  },
  {
   "cell_type": "code",
   "execution_count": null,
   "id": "b70b789b",
   "metadata": {},
   "outputs": [],
   "source": []
  },
  {
   "cell_type": "code",
   "execution_count": null,
   "id": "2e548e0f",
   "metadata": {},
   "outputs": [],
   "source": []
  }
 ],
 "metadata": {
  "kernelspec": {
   "display_name": "Python 3 (ipykernel)",
   "language": "python",
   "name": "python3"
  },
  "language_info": {
   "codemirror_mode": {
    "name": "ipython",
    "version": 3
   },
   "file_extension": ".py",
   "mimetype": "text/x-python",
   "name": "python",
   "nbconvert_exporter": "python",
   "pygments_lexer": "ipython3",
   "version": "3.8.15"
  }
 },
 "nbformat": 4,
 "nbformat_minor": 5
}
